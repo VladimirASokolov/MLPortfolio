{
  "nbformat": 4,
  "nbformat_minor": 0,
  "metadata": {
    "colab": {
      "provenance": []
    },
    "kernelspec": {
      "name": "python3",
      "display_name": "Python 3"
    },
    "language_info": {
      "name": "python"
    }
  },
  "cells": [
    {
      "cell_type": "markdown",
      "source": [
        "This notebook uses a Pistachio Image data set found on Kaggle\n",
        "\n",
        "https://www.kaggle.com/datasets/muratkokludataset/pistachio-image-dataset\n",
        "\n",
        "The archive was downloaded and uploaded to Colab to the content folder\n",
        "\n",
        "Extract using zipfile"
      ],
      "metadata": {
        "id": "U4KxBrmvbeAe"
      }
    },
    {
      "cell_type": "code",
      "execution_count": 7,
      "metadata": {
        "id": "bag0Ha0pgpDM",
        "colab": {
          "base_uri": "https://localhost:8080/"
        },
        "outputId": "a48bc6ef-551e-4f6f-ee32-835d1416c089"
      },
      "outputs": [
        {
          "output_type": "execute_result",
          "data": {
            "text/plain": [
              "(2148, 244, 244, 3)"
            ]
          },
          "metadata": {},
          "execution_count": 7
        }
      ],
      "source": [
        "import pandas as pd\n",
        "import numpy as np\n",
        "import tensorflow as tf\n",
        "from numpy.random import seed\n",
        "import zipfile\n",
        "import os\n",
        "import cv2\n",
        "from sklearn.model_selection import train_test_split\n",
        "\n",
        "seed(1234)\n",
        "tf.random.set_seed(1234)\n",
        "\n",
        "zip_ref = zipfile.ZipFile('/content/images.zip', 'r')\n",
        "zip_ref.extractall('/content')\n",
        "zip_ref.close()\n",
        "\n",
        "x = []\n",
        "y = []\n",
        "\n",
        "class_label_encoding = {\n",
        "    'Kirmizi_Pistachio': 0,\n",
        "    'Siirt_Pistachio': 1\n",
        "}\n",
        "parent_dir = '../content/Pistachio_Image_Dataset/Pistachio_Image_Dataset/'\n",
        "\n",
        "for directory in os.listdir(parent_dir):\n",
        "    if('.txt' in directory): continue\n",
        "    for file in os.listdir(parent_dir+'/'+directory):\n",
        "        image_path = parent_dir+'/'+directory+'/'+file\n",
        "        img = cv2.imread(image_path,0).astype('float32')\n",
        "        img = cv2.resize(img, (244, 244), interpolation = cv2.INTER_AREA)\n",
        "        img = cv2.merge((img, img, img))\n",
        "        img/=255.\n",
        "        x.append(img)\n",
        "        y.append(class_label_encoding[directory])\n",
        "\n",
        "x = np.array(x)\n",
        "y = np.array(y)\n",
        "\n",
        "x = x.reshape(x.shape[0], x.shape[1], x.shape[2],3)\n",
        "x.shape"
      ]
    },
    {
      "cell_type": "markdown",
      "source": [
        "Train-Test Split\n",
        "80% Train, 20% Test\n",
        "\n",
        "Additional splits to make a smaller data set to try to stop RNN and transfer to stop crashing Colab"
      ],
      "metadata": {
        "id": "y0DBXkufbfqt"
      }
    },
    {
      "cell_type": "code",
      "source": [
        "x_train, x_test, y_train, y_test = train_test_split(x, y, test_size=0.2, random_state=1234, stratify=y)\n",
        "x_train_small, x_test_small, y_train_small, y_test_small = train_test_split(x_test, y_test, test_size=0.2, random_state=1234, stratify=y_test)\n",
        "x_train_smaller, x_test_smaller, y_train_smaller, y_test_smaller = train_test_split(x_test_small, y_test_small, test_size=0.2, random_state=1234, stratify=y_test_small)"
      ],
      "metadata": {
        "id": "uAY1zMInbgRF"
      },
      "execution_count": 8,
      "outputs": []
    },
    {
      "cell_type": "markdown",
      "source": [
        "Distribution Graph and Description\n",
        "\n",
        "The data set contains images of pistachios grouped into two different kinds; Siirt and Kirmizi. The distribution of the data is not perfectly even but there isn't an extreme difference. The goal is for the model to predict which kind of pistachio the image shows."
      ],
      "metadata": {
        "id": "W3du4QYibg_F"
      }
    },
    {
      "cell_type": "code",
      "source": [
        "import matplotlib.pyplot as plt\n",
        "vals = [y_train.shape[0] - y_train.sum(),y_train.sum()]\n",
        "labels = ['Kirmizi_Pistachio','Siirt_Pistachio']\n",
        "plt.bar(labels, vals)\n",
        "plt.show()"
      ],
      "metadata": {
        "id": "9G_chScDbhZ7",
        "colab": {
          "base_uri": "https://localhost:8080/",
          "height": 266
        },
        "outputId": "976d2d0d-45d1-404b-bd1d-4e592a138e68"
      },
      "execution_count": 9,
      "outputs": [
        {
          "output_type": "display_data",
          "data": {
            "text/plain": [
              "<Figure size 432x288 with 1 Axes>"
            ],
            "image/png": "[encoded data removed]"
          },
          "metadata": {
            "needs_background": "light"
          }
        }
      ]
    },
    {
      "cell_type": "markdown",
      "source": [
        "Sequential Model"
      ],
      "metadata": {
        "id": "hXke_QP7bhr9"
      }
    },
    {
      "cell_type": "code",
      "source": [
        "from __future__ import print_function\n",
        "import keras\n",
        "from keras.models import Sequential\n",
        "from keras.layers import Dense, Dropout, Flatten\n",
        "from keras.optimizers import RMSprop\n",
        "from keras.callbacks import EarlyStopping,ModelCheckpoint\n",
        "from keras import layers\n",
        "\n",
        "model = keras.Sequential()\n",
        "model.add(layers.Flatten(input_shape=(244, 244,3)))\n",
        "model.add(layers.Dense(128, activation='relu'))\n",
        "model.add(layers.Dropout(0.5))\n",
        "model.add(layers.Dense(1, activation='sigmoid'))\n",
        "\n",
        "model.compile(loss='binary_crossentropy',optimizer = \"adam\",metrics=['accuracy'])\n",
        "\n",
        "history = model.fit(x_train, y_train, validation_data=(x_test, y_test), batch_size=128, epochs=50, verbose=1, callbacks=[EarlyStopping(patience=8,restore_best_weights=True)])\n"
      ],
      "metadata": {
        "colab": {
          "base_uri": "https://localhost:8080/"
        },
        "id": "cD85ofhTHyX5",
        "outputId": "50c255ec-49d4-49ea-a1a8-2f8efa2a2bdf"
      },
      "execution_count": 10,
      "outputs": [
        {
          "output_type": "stream",
          "name": "stdout",
          "text": [
            "Epoch 1/50\n",
            "14/14 [==============================] - 6s 380ms/step - loss: 10.2283 - accuracy: 0.6618 - val_loss: 1.5557 - val_accuracy: 0.8140\n",
            "Epoch 2/50\n",
            "14/14 [==============================] - 6s 413ms/step - loss: 0.9152 - accuracy: 0.7445 - val_loss: 0.4650 - val_accuracy: 0.7651\n",
            "Epoch 3/50\n",
            "14/14 [==============================] - 5s 379ms/step - loss: 0.5023 - accuracy: 0.7235 - val_loss: 0.4413 - val_accuracy: 0.8233\n",
            "Epoch 4/50\n",
            "14/14 [==============================] - 5s 345ms/step - loss: 0.4781 - accuracy: 0.7119 - val_loss: 0.4154 - val_accuracy: 0.8163\n",
            "Epoch 5/50\n",
            "14/14 [==============================] - 5s 365ms/step - loss: 0.4624 - accuracy: 0.7451 - val_loss: 0.4225 - val_accuracy: 0.8140\n",
            "Epoch 6/50\n",
            "14/14 [==============================] - 5s 391ms/step - loss: 0.4491 - accuracy: 0.7619 - val_loss: 0.4184 - val_accuracy: 0.8116\n",
            "Epoch 7/50\n",
            "14/14 [==============================] - 5s 336ms/step - loss: 0.4702 - accuracy: 0.7887 - val_loss: 0.4443 - val_accuracy: 0.8000\n",
            "Epoch 8/50\n",
            "14/14 [==============================] - 5s 350ms/step - loss: 0.4696 - accuracy: 0.7712 - val_loss: 0.4148 - val_accuracy: 0.8302\n",
            "Epoch 9/50\n",
            "14/14 [==============================] - 6s 439ms/step - loss: 0.4521 - accuracy: 0.7666 - val_loss: 0.3941 - val_accuracy: 0.8395\n",
            "Epoch 10/50\n",
            "14/14 [==============================] - 5s 328ms/step - loss: 0.4610 - accuracy: 0.7421 - val_loss: 0.3813 - val_accuracy: 0.8326\n",
            "Epoch 11/50\n",
            "14/14 [==============================] - 4s 321ms/step - loss: 0.4364 - accuracy: 0.7648 - val_loss: 0.3843 - val_accuracy: 0.8512\n",
            "Epoch 12/50\n",
            "14/14 [==============================] - 5s 336ms/step - loss: 0.4303 - accuracy: 0.7742 - val_loss: 0.4053 - val_accuracy: 0.8419\n",
            "Epoch 13/50\n",
            "14/14 [==============================] - 5s 325ms/step - loss: 0.4215 - accuracy: 0.7678 - val_loss: 0.3962 - val_accuracy: 0.8465\n",
            "Epoch 14/50\n",
            "14/14 [==============================] - 5s 352ms/step - loss: 0.4333 - accuracy: 0.7660 - val_loss: 0.3985 - val_accuracy: 0.8302\n",
            "Epoch 15/50\n",
            "14/14 [==============================] - 5s 357ms/step - loss: 0.4570 - accuracy: 0.7107 - val_loss: 0.4164 - val_accuracy: 0.8256\n",
            "Epoch 16/50\n",
            "14/14 [==============================] - 5s 366ms/step - loss: 0.4539 - accuracy: 0.7730 - val_loss: 0.3971 - val_accuracy: 0.8326\n",
            "Epoch 17/50\n",
            "14/14 [==============================] - 5s 374ms/step - loss: 0.4347 - accuracy: 0.7637 - val_loss: 0.3789 - val_accuracy: 0.8349\n",
            "Epoch 18/50\n",
            "14/14 [==============================] - 5s 328ms/step - loss: 0.4393 - accuracy: 0.7666 - val_loss: 0.3779 - val_accuracy: 0.8419\n",
            "Epoch 19/50\n",
            "14/14 [==============================] - 5s 348ms/step - loss: 0.4085 - accuracy: 0.7881 - val_loss: 0.3798 - val_accuracy: 0.8419\n",
            "Epoch 20/50\n",
            "14/14 [==============================] - 6s 403ms/step - loss: 0.4127 - accuracy: 0.7614 - val_loss: 0.3844 - val_accuracy: 0.8465\n",
            "Epoch 21/50\n",
            "14/14 [==============================] - 5s 360ms/step - loss: 0.4086 - accuracy: 0.7817 - val_loss: 0.3805 - val_accuracy: 0.8372\n",
            "Epoch 22/50\n",
            "14/14 [==============================] - 5s 369ms/step - loss: 0.3989 - accuracy: 0.7823 - val_loss: 0.3760 - val_accuracy: 0.8372\n",
            "Epoch 23/50\n",
            "14/14 [==============================] - 5s 359ms/step - loss: 0.3900 - accuracy: 0.7800 - val_loss: 0.4116 - val_accuracy: 0.8326\n",
            "Epoch 24/50\n",
            "14/14 [==============================] - 5s 339ms/step - loss: 0.3909 - accuracy: 0.7934 - val_loss: 0.3846 - val_accuracy: 0.8512\n",
            "Epoch 25/50\n",
            "14/14 [==============================] - 7s 489ms/step - loss: 0.4043 - accuracy: 0.7666 - val_loss: 0.3802 - val_accuracy: 0.8372\n",
            "Epoch 26/50\n",
            "14/14 [==============================] - 5s 340ms/step - loss: 0.3924 - accuracy: 0.7852 - val_loss: 0.3896 - val_accuracy: 0.8442\n",
            "Epoch 27/50\n",
            "14/14 [==============================] - 5s 356ms/step - loss: 0.3964 - accuracy: 0.7928 - val_loss: 0.3923 - val_accuracy: 0.8419\n",
            "Epoch 28/50\n",
            "14/14 [==============================] - 5s 357ms/step - loss: 0.3918 - accuracy: 0.7928 - val_loss: 0.3937 - val_accuracy: 0.8395\n",
            "Epoch 29/50\n",
            "14/14 [==============================] - 5s 368ms/step - loss: 0.3930 - accuracy: 0.7707 - val_loss: 0.3902 - val_accuracy: 0.8256\n",
            "Epoch 30/50\n",
            "14/14 [==============================] - 5s 355ms/step - loss: 0.3944 - accuracy: 0.7742 - val_loss: 0.3964 - val_accuracy: 0.8163\n"
          ]
        }
      ]
    },
    {
      "cell_type": "code",
      "source": [
        "import matplotlib.pyplot as plt\n",
        "\n",
        "plt.plot(history.history['val_accuracy'])\n",
        "plt.plot(history.history['accuracy'])\n",
        "plt.title('Model accuracy')\n",
        "plt.ylabel('Accuracy')\n",
        "plt.xlabel('Epoch')\n",
        "plt.legend(['Train', 'Test'], loc='upper left')\n",
        "plt.show()"
      ],
      "metadata": {
        "colab": {
          "base_uri": "https://localhost:8080/",
          "height": 295
        },
        "id": "rm4Sdx1bo7yR",
        "outputId": "9eea9476-d72d-48ce-f0a8-3d6a4510fcf2"
      },
      "execution_count": 11,
      "outputs": [
        {
          "output_type": "display_data",
          "data": {
            "text/plain": [
              "<Figure size 432x288 with 1 Axes>"
            ],
            "image/png": "[encoded data removed]"
          },
          "metadata": {
            "needs_background": "light"
          }
        }
      ]
    },
    {
      "cell_type": "code",
      "source": [
        "score = model.evaluate(x_test, y_test, verbose=0)\n",
        "print('Test loss:', score[0])\n",
        "print('Test accuracy:', score[1])"
      ],
      "metadata": {
        "colab": {
          "base_uri": "https://localhost:8080/"
        },
        "id": "uJ4fQGZ7p_vh",
        "outputId": "56d3a6ef-ad51-4a2f-f3a2-b160ab314033"
      },
      "execution_count": 12,
      "outputs": [
        {
          "output_type": "stream",
          "name": "stdout",
          "text": [
            "Test loss: 0.3759632408618927\n",
            "Test accuracy: 0.8372092843055725\n"
          ]
        }
      ]
    },
    {
      "cell_type": "markdown",
      "source": [
        "Different architecture"
      ],
      "metadata": {
        "id": "qDXXwTNpBBnx"
      }
    },
    {
      "cell_type": "code",
      "source": [
        "model2 = keras.Sequential()\n",
        "model2.add(layers.Flatten(input_shape=(244, 244,3)))\n",
        "model2.add(layers.Embedding(1000, 64))\n",
        "model2.add(layers.SimpleRNN(64))\n",
        "model2.add(layers.Dense(1, activation='sigmoid'))\n",
        "\n",
        "model2.compile(loss='binary_crossentropy',optimizer = \"adam\",metrics=['accuracy'])\n",
        "#history = model2.fit(x_train_smaller, y_train_smaller, validation_data=(x_test_smaller, y_test_smaller), batch_size=32, epochs=5, verbose=1, callbacks=[EarlyStopping(patience=8,restore_best_weights=True)])"
      ],
      "metadata": {
        "id": "PhHHNC5IBDaR"
      },
      "execution_count": 13,
      "outputs": []
    },
    {
      "cell_type": "markdown",
      "source": [
        "Pretrained"
      ],
      "metadata": {
        "id": "Hha3cVxwBJIm"
      }
    },
    {
      "cell_type": "code",
      "source": [
        "from keras.applications.vgg16 import VGG16\n",
        "\n",
        "model3 = VGG16(\n",
        "      input_shape = (244,244,3),\n",
        "      include_top = False,\n",
        "      weights = 'imagenet'\n",
        "    )\n",
        "\n",
        "from keras.layers import  Dropout\n",
        "from keras.layers import  Flatten\n",
        "x = Flatten()(model3.output)\n",
        "x = Dropout(0.5)(x)\n",
        "x = Dense(1, activation = \"sigmoid\")(x)\n",
        "\n",
        "model3 = keras.Model(model3.input, x)\n",
        "model3.compile(loss = \"binary_crossentropy\", optimizer = \"adam\", metrics = \"accuracy\")\n",
        "history3 = model3.fit(x_train_smaller, y_train_smaller, validation_data=(x_test_smaller, y_test_smaller), batch_size=128, epochs=10, verbose=1, callbacks=[EarlyStopping(patience=8,restore_best_weights=True)])"
      ],
      "metadata": {
        "colab": {
          "base_uri": "https://localhost:8080/"
        },
        "id": "ggloHzyVBKSq",
        "outputId": "03420ea9-8b52-4356-9aa5-5c1ba61e035b"
      },
      "execution_count": 17,
      "outputs": [
        {
          "output_type": "stream",
          "name": "stdout",
          "text": [
            "Epoch 1/10\n",
            "1/1 [==============================] - 151s 151s/step - loss: 0.7904 - accuracy: 0.4853 - val_loss: 1.2921 - val_accuracy: 0.5556\n",
            "Epoch 2/10\n",
            "1/1 [==============================] - 164s 164s/step - loss: 1.3091 - accuracy: 0.5735 - val_loss: 0.6899 - val_accuracy: 0.5556\n",
            "Epoch 3/10\n",
            "1/1 [==============================] - 153s 153s/step - loss: 0.6944 - accuracy: 0.5147 - val_loss: 2.0376 - val_accuracy: 0.5556\n",
            "Epoch 4/10\n",
            "1/1 [==============================] - 160s 160s/step - loss: 2.1021 - accuracy: 0.5588 - val_loss: 0.7123 - val_accuracy: 0.4444\n",
            "Epoch 5/10\n",
            "1/1 [==============================] - 157s 157s/step - loss: 0.6866 - accuracy: 0.5735 - val_loss: 1.0989 - val_accuracy: 0.5556\n",
            "Epoch 6/10\n",
            "1/1 [==============================] - 156s 156s/step - loss: 1.1717 - accuracy: 0.5147 - val_loss: 0.7077 - val_accuracy: 0.4444\n",
            "Epoch 7/10\n",
            "1/1 [==============================] - 156s 156s/step - loss: 0.7551 - accuracy: 0.4559 - val_loss: 0.6876 - val_accuracy: 0.5556\n",
            "Epoch 8/10\n",
            "1/1 [==============================] - 161s 161s/step - loss: 0.7072 - accuracy: 0.4412 - val_loss: 0.7064 - val_accuracy: 0.5556\n",
            "Epoch 9/10\n",
            "1/1 [==============================] - 154s 154s/step - loss: 0.7197 - accuracy: 0.5735 - val_loss: 0.6983 - val_accuracy: 0.4444\n",
            "Epoch 10/10\n",
            "1/1 [==============================] - 151s 151s/step - loss: 0.6652 - accuracy: 0.5588 - val_loss: 0.8184 - val_accuracy: 0.5556\n"
          ]
        }
      ]
    },
    {
      "cell_type": "code",
      "source": [
        "plt.plot(history3.history['val_accuracy'])\n",
        "plt.plot(history3.history['accuracy'])\n",
        "plt.title('Model accuracy')\n",
        "plt.ylabel('Accuracy')\n",
        "plt.xlabel('Epoch')\n",
        "plt.legend(['Train', 'Test'], loc='upper left')\n",
        "plt.show()"
      ],
      "metadata": {
        "colab": {
          "base_uri": "https://localhost:8080/",
          "height": 295
        },
        "id": "5tqlpHFoq6kD",
        "outputId": "823ffbc0-cc82-4faf-f987-2ab797fb0ebc"
      },
      "execution_count": 18,
      "outputs": [
        {
          "output_type": "display_data",
          "data": {
            "text/plain": [
              "<Figure size 432x288 with 1 Axes>"
            ],
            "image/png": "[encoded data removed]"
          },
          "metadata": {
            "needs_background": "light"
          }
        }
      ]
    },
    {
      "cell_type": "code",
      "source": [
        "score2 = model3.evaluate(x_test_smaller, y_test_smaller, verbose=0)\n",
        "print('Test loss:', score2[0])\n",
        "print('Test accuracy:', score2[1])"
      ],
      "metadata": {
        "colab": {
          "base_uri": "https://localhost:8080/"
        },
        "id": "QZVEGNv6qLmE",
        "outputId": "51263fe4-b616-4b82-97b9-951157adccf3"
      },
      "execution_count": 19,
      "outputs": [
        {
          "output_type": "stream",
          "name": "stdout",
          "text": [
            "Test loss: 0.8184123039245605\n",
            "Test accuracy: 0.5555555820465088\n"
          ]
        }
      ]
    },
    {
      "cell_type": "markdown",
      "source": [
        "Analysis\n",
        "\n",
        "I was not able to get RNN to work so it was commented out. The closest I got was one epoch with an estimated completion time of 20 minutes while the rest of the attempts crashed Colab. I got transfer to run, however it was very slow even on a smaller subset of the data so I only did 10 epochs. The accurary at the end was in the 50's suggesting that it did not learn anything and was no better than flipping a coin. Sequential did work and achieved an accuracy in the low 80's even with my limited knowledge and was fast in comparison to the others. I made a lot of mistakes and one of them is probably the way that the data was input. The difference in run time between sequential and the rest probably means the data was not efficiently input as even simplernn with only a few layers didn't work. Overall neural networks seem very vague with only a few loose best practices to guide you and seems to have a lot of trial and error. Long learning times mean that mistakes are very costly and made experimenting feel discouraging. "
      ],
      "metadata": {
        "id": "o_xwynbXBKmt"
      }
    }
  ]
}